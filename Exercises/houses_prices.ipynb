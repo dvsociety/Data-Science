{
 "cells": [
  {
   "cell_type": "code",
   "execution_count": 1,
   "metadata": {},
   "outputs": [],
   "source": [
    "#Comparación de velocidad de ejecucion entre un for con miles de reiteraciones y una multiplicación de matrices\n",
    "\n",
    "import numpy as np \n",
    "from time import time"
   ]
  },
  {
   "cell_type": "code",
   "execution_count": 4,
   "metadata": {},
   "outputs": [
    {
     "name": "stdout",
     "output_type": "stream",
     "text": [
      "0.2602577209472656\n",
      "[array([346251, 264187, 373234, ..., 224270, 378586, 103850])]\n"
     ]
    }
   ],
   "source": [
    "houses_sizes = np.random.randint(400, 2000, size=(100000000))\n",
    "\n",
    "def houses_prices(sizes):\n",
    "    start_time = time()\n",
    "    \n",
    "    houses_values = []\n",
    "    for i in range(len(houses_sizes)):\n",
    "        houses_values.append(10190+223*houses_sizes)\n",
    "        \n",
    "        end_time = time() - start_time\n",
    "        print(end_time)\n",
    "        \n",
    "        return houses_values\n",
    "\n",
    "print(houses_prices(houses_sizes))"
   ]
  },
  {
   "cell_type": "code",
   "execution_count": 5,
   "metadata": {},
   "outputs": [
    {
     "name": "stdout",
     "output_type": "stream",
     "text": [
      "1.1880416870117188\n",
      "[346251 264187 373234 ... 224270 378586 103850]\n"
     ]
    }
   ],
   "source": [
    "def matriz_houses_prices(sizes):\n",
    "    start_time = time()\n",
    "\n",
    "    vector_all_one = np.random.randint(1,2, size=(len(houses_sizes)))\n",
    "    matriz_house_size = np.column_stack((vector_all_one,houses_sizes))\n",
    "    house_calcules = np.array([10190, 223])\n",
    "    \n",
    "    end_time = time() - start_time\n",
    "    print(end_time)\n",
    "    \n",
    "    return np.dot(matriz_house_size, house_calcules)\n",
    "\n",
    "print(matriz_houses_prices(houses_sizes))"
   ]
  }
 ],
 "metadata": {
  "kernelspec": {
   "display_name": "Python 3.9.12 ('base')",
   "language": "python",
   "name": "python3"
  },
  "language_info": {
   "codemirror_mode": {
    "name": "ipython",
    "version": 3
   },
   "file_extension": ".py",
   "mimetype": "text/x-python",
   "name": "python",
   "nbconvert_exporter": "python",
   "pygments_lexer": "ipython3",
   "version": "3.9.12"
  },
  "orig_nbformat": 4,
  "vscode": {
   "interpreter": {
    "hash": "475a89fc114b42d69a4b4c66bbcdf41c2233d61505a0a567b2558535c2593f59"
   }
  }
 },
 "nbformat": 4,
 "nbformat_minor": 2
}
